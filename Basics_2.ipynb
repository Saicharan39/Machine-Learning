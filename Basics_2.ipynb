{
  "nbformat": 4,
  "nbformat_minor": 0,
  "metadata": {
    "colab": {
      "provenance": [],
      "authorship_tag": "ABX9TyNH68DA6eAOUrJ0Veu3c42M",
      "include_colab_link": true
    },
    "kernelspec": {
      "name": "python3",
      "display_name": "Python 3"
    },
    "language_info": {
      "name": "python"
    }
  },
  "cells": [
    {
      "cell_type": "markdown",
      "metadata": {
        "id": "view-in-github",
        "colab_type": "text"
      },
      "source": [
        "<a href=\"https://colab.research.google.com/github/Saicharan39/Machine-Learning/blob/main/Basics_2.ipynb\" target=\"_parent\"><img src=\"https://colab.research.google.com/assets/colab-badge.svg\" alt=\"Open In Colab\"/></a>"
      ]
    },
    {
      "cell_type": "markdown",
      "source": [
        "Types of objects in python:\n",
        "1.mutable\n",
        "2.immutable"
      ],
      "metadata": {
        "id": "Ce-BdlciPb6C"
      }
    },
    {
      "cell_type": "markdown",
      "source": [
        "immutable:-\n",
        "int ,\n",
        "float,\n",
        "boolean,\n",
        "string,\n",
        "tuple\n",
        "\n",
        "Mutable:-\n",
        "set,\n",
        "list,\n",
        "dictonary"
      ],
      "metadata": {
        "id": "MxiJcEUDPwgk"
      }
    },
    {
      "cell_type": "code",
      "source": [
        "#list declared in square brackets,duplicates allowed and multiple datatypes and duplicates are allowed\n",
        "list=[1,2,3,'sai',2.4,'varun',True]\n",
        "print(list)"
      ],
      "metadata": {
        "colab": {
          "base_uri": "https://localhost:8080/"
        },
        "id": "czPq4HRTPvYi",
        "outputId": "56016e41-276f-467a-a82c-fcccca94b5df"
      },
      "execution_count": 28,
      "outputs": [
        {
          "output_type": "stream",
          "name": "stdout",
          "text": [
            "[1, 2, 3, 'sai', 2.4, 'varun', True]\n"
          ]
        }
      ]
    },
    {
      "cell_type": "code",
      "source": [
        "list.append('consistent')"
      ],
      "metadata": {
        "id": "FLs3IBjuQUEa"
      },
      "execution_count": 8,
      "outputs": []
    },
    {
      "cell_type": "code",
      "source": [
        "print(list)"
      ],
      "metadata": {
        "colab": {
          "base_uri": "https://localhost:8080/"
        },
        "id": "0kWfRV6OQz8X",
        "outputId": "be063040-3aa3-470e-a42a-189050ecda2a"
      },
      "execution_count": 9,
      "outputs": [
        {
          "output_type": "stream",
          "name": "stdout",
          "text": [
            "[1, 2, 3, 'sai', 2.4, 'varun', True, 'consistent']\n"
          ]
        }
      ]
    },
    {
      "cell_type": "code",
      "source": [
        "print(len(list))"
      ],
      "metadata": {
        "colab": {
          "base_uri": "https://localhost:8080/"
        },
        "id": "i322h4zhQ16I",
        "outputId": "29176345-7cd9-4b9e-83bf-c10d75d3f372"
      },
      "execution_count": 12,
      "outputs": [
        {
          "output_type": "stream",
          "name": "stdout",
          "text": [
            "7\n"
          ]
        }
      ]
    },
    {
      "cell_type": "code",
      "source": [
        "del list[0]"
      ],
      "metadata": {
        "id": "WZR7boaFROMn"
      },
      "execution_count": 13,
      "outputs": []
    },
    {
      "cell_type": "code",
      "source": [
        "print(list)"
      ],
      "metadata": {
        "colab": {
          "base_uri": "https://localhost:8080/"
        },
        "id": "uA5JObcyRac7",
        "outputId": "02312cce-6637-40bc-c1ad-e41909e59b39"
      },
      "execution_count": 14,
      "outputs": [
        {
          "output_type": "stream",
          "name": "stdout",
          "text": [
            "[2, 3, 'sai', 2.4, 'varun', True]\n"
          ]
        }
      ]
    },
    {
      "cell_type": "markdown",
      "source": [
        "Tuples:\n",
        "allows multiple datatypes,\n",
        "immutable,\n",
        "() are used,\n",
        "duplicates are allowed\n"
      ],
      "metadata": {
        "id": "JKayDx4hRrvT"
      }
    },
    {
      "cell_type": "code",
      "source": [
        "tuple=(1,2,3,4,5)\n",
        "print(tuple)"
      ],
      "metadata": {
        "colab": {
          "base_uri": "https://localhost:8080/"
        },
        "id": "QsXTM3zDRcsH",
        "outputId": "dedb5830-ee80-4ae4-aa71-85ed8bd0c653"
      },
      "execution_count": 15,
      "outputs": [
        {
          "output_type": "stream",
          "name": "stdout",
          "text": [
            "(1, 2, 3, 4, 5)\n"
          ]
        }
      ]
    },
    {
      "cell_type": "code",
      "source": [
        "tuple=(1,2,3,4,5,'sai')\n",
        "print(tuple)"
      ],
      "metadata": {
        "colab": {
          "base_uri": "https://localhost:8080/"
        },
        "id": "9sW9eeLwSIZu",
        "outputId": "5492ffc2-fbf3-4912-f98a-035c93c1bb94"
      },
      "execution_count": 18,
      "outputs": [
        {
          "output_type": "stream",
          "name": "stdout",
          "text": [
            "(1, 2, 3, 4, 5, 'sai')\n"
          ]
        }
      ]
    },
    {
      "cell_type": "code",
      "source": [
        "tuple.append(4)"
      ],
      "metadata": {
        "colab": {
          "base_uri": "https://localhost:8080/",
          "height": 176
        },
        "id": "_KMorEBCSLsk",
        "outputId": "1733ab1c-f3b7-46e0-da2f-7bde620c0d8a"
      },
      "execution_count": 19,
      "outputs": [
        {
          "output_type": "error",
          "ename": "AttributeError",
          "evalue": "ignored",
          "traceback": [
            "\u001b[0;31m---------------------------------------------------------------------------\u001b[0m",
            "\u001b[0;31mAttributeError\u001b[0m                            Traceback (most recent call last)",
            "\u001b[0;32m<ipython-input-19-2958743b6527>\u001b[0m in \u001b[0;36m<cell line: 1>\u001b[0;34m()\u001b[0m\n\u001b[0;32m----> 1\u001b[0;31m \u001b[0mtuple\u001b[0m\u001b[0;34m.\u001b[0m\u001b[0mappend\u001b[0m\u001b[0;34m(\u001b[0m\u001b[0;36m4\u001b[0m\u001b[0;34m)\u001b[0m\u001b[0;34m\u001b[0m\u001b[0;34m\u001b[0m\u001b[0m\n\u001b[0m",
            "\u001b[0;31mAttributeError\u001b[0m: 'tuple' object has no attribute 'append'"
          ]
        }
      ]
    },
    {
      "cell_type": "code",
      "source": [
        "del tuple(2)\n",
        "print(tuple)"
      ],
      "metadata": {
        "colab": {
          "base_uri": "https://localhost:8080/",
          "height": 141
        },
        "id": "CEIqJoLkSTfz",
        "outputId": "5d4b185e-11b0-466d-fb26-3bfd824f84e5"
      },
      "execution_count": 20,
      "outputs": [
        {
          "output_type": "error",
          "ename": "SyntaxError",
          "evalue": "ignored",
          "traceback": [
            "\u001b[0;36m  File \u001b[0;32m\"<ipython-input-20-05a8fd660d65>\"\u001b[0;36m, line \u001b[0;32m1\u001b[0m\n\u001b[0;31m    del tuple(2)\u001b[0m\n\u001b[0m        ^\u001b[0m\n\u001b[0;31mSyntaxError\u001b[0m\u001b[0;31m:\u001b[0m cannot delete function call\n"
          ]
        }
      ]
    },
    {
      "cell_type": "code",
      "source": [
        "print(len(tuple))"
      ],
      "metadata": {
        "colab": {
          "base_uri": "https://localhost:8080/"
        },
        "id": "ALgzSOmzSdW5",
        "outputId": "3ddace26-8e16-42fd-f83b-b4a86604419d"
      },
      "execution_count": 21,
      "outputs": [
        {
          "output_type": "stream",
          "name": "stdout",
          "text": [
            "6\n"
          ]
        }
      ]
    },
    {
      "cell_type": "code",
      "source": [
        "tuple=(1,2,3,2,1,3,'sai')\n",
        "print(tuple)"
      ],
      "metadata": {
        "colab": {
          "base_uri": "https://localhost:8080/"
        },
        "id": "FCi3ZCEgSoFA",
        "outputId": "10d1cfc9-c282-459d-e5f1-dc31e3b8e4ed"
      },
      "execution_count": 27,
      "outputs": [
        {
          "output_type": "stream",
          "name": "stdout",
          "text": [
            "(1, 2, 3, 2, 1, 3, 'sai')\n"
          ]
        }
      ]
    },
    {
      "cell_type": "markdown",
      "source": [
        "sets:\n",
        "{} are used,\n",
        "allows multiple datatypes,\n",
        "duplicates are not allowed,\n",
        "mutable"
      ],
      "metadata": {
        "id": "0EoElBH2UOWg"
      }
    },
    {
      "cell_type": "code",
      "source": [
        "set={1,2,'sai','charan',True,3,1}\n",
        "print(set)"
      ],
      "metadata": {
        "colab": {
          "base_uri": "https://localhost:8080/"
        },
        "id": "BJgujYcoS068",
        "outputId": "80b8b820-93d5-45f2-f2a2-6402aac26afd"
      },
      "execution_count": 29,
      "outputs": [
        {
          "output_type": "stream",
          "name": "stdout",
          "text": [
            "{1, 2, 3, 'sai', 'charan'}\n"
          ]
        }
      ]
    },
    {
      "cell_type": "code",
      "source": [
        "list=[1,2,3,4,'sai']\n",
        "y=set(list)\n",
        "print(y)"
      ],
      "metadata": {
        "colab": {
          "base_uri": "https://localhost:8080/",
          "height": 211
        },
        "id": "DD-dVdioUkJJ",
        "outputId": "bc5e0cc7-9ae6-46e4-d3d3-65b7e722258d"
      },
      "execution_count": 30,
      "outputs": [
        {
          "output_type": "error",
          "ename": "TypeError",
          "evalue": "ignored",
          "traceback": [
            "\u001b[0;31m---------------------------------------------------------------------------\u001b[0m",
            "\u001b[0;31mTypeError\u001b[0m                                 Traceback (most recent call last)",
            "\u001b[0;32m<ipython-input-30-0cf95867be5c>\u001b[0m in \u001b[0;36m<cell line: 2>\u001b[0;34m()\u001b[0m\n\u001b[1;32m      1\u001b[0m \u001b[0mlist\u001b[0m\u001b[0;34m=\u001b[0m\u001b[0;34m[\u001b[0m\u001b[0;36m1\u001b[0m\u001b[0;34m,\u001b[0m\u001b[0;36m2\u001b[0m\u001b[0;34m,\u001b[0m\u001b[0;36m3\u001b[0m\u001b[0;34m,\u001b[0m\u001b[0;36m4\u001b[0m\u001b[0;34m,\u001b[0m\u001b[0;34m'sai'\u001b[0m\u001b[0;34m]\u001b[0m\u001b[0;34m\u001b[0m\u001b[0;34m\u001b[0m\u001b[0m\n\u001b[0;32m----> 2\u001b[0;31m \u001b[0my\u001b[0m\u001b[0;34m=\u001b[0m\u001b[0mset\u001b[0m\u001b[0;34m(\u001b[0m\u001b[0mlist\u001b[0m\u001b[0;34m)\u001b[0m\u001b[0;34m\u001b[0m\u001b[0;34m\u001b[0m\u001b[0m\n\u001b[0m\u001b[1;32m      3\u001b[0m \u001b[0mprint\u001b[0m\u001b[0;34m(\u001b[0m\u001b[0my\u001b[0m\u001b[0;34m)\u001b[0m\u001b[0;34m\u001b[0m\u001b[0;34m\u001b[0m\u001b[0m\n",
            "\u001b[0;31mTypeError\u001b[0m: 'set' object is not callable"
          ]
        }
      ]
    },
    {
      "cell_type": "markdown",
      "source": [
        "Dictonary:\n",
        "Stores key value pair,\n",
        "no duplicates"
      ],
      "metadata": {
        "id": "68Oo22KJU6xf"
      }
    },
    {
      "cell_type": "code",
      "source": [
        "dic={'name':'saicharan','age':20,'place':'Hyderabad'}\n",
        "print(dic)"
      ],
      "metadata": {
        "colab": {
          "base_uri": "https://localhost:8080/"
        },
        "id": "n0y9K4oWUzDJ",
        "outputId": "847e34f8-06fe-4d15-8e73-83699cea2ef7"
      },
      "execution_count": 31,
      "outputs": [
        {
          "output_type": "stream",
          "name": "stdout",
          "text": [
            "{'name': 'saicharan', 'age': 20, 'place': 'Hyderabad'}\n"
          ]
        }
      ]
    },
    {
      "cell_type": "code",
      "source": [
        "print(dic['name'])\n",
        "print(dic['place'])"
      ],
      "metadata": {
        "colab": {
          "base_uri": "https://localhost:8080/"
        },
        "id": "rzsWTKSrW2jU",
        "outputId": "18ac6bdd-c8bf-4c89-cdf5-959df11b7bad"
      },
      "execution_count": 35,
      "outputs": [
        {
          "output_type": "stream",
          "name": "stdout",
          "text": [
            "saicharan\n",
            "Hyderabad\n"
          ]
        }
      ]
    },
    {
      "cell_type": "code",
      "source": [
        "n = int(input(\"Enter the number of costs: \"))\n",
        "cost = []\n",
        "\n",
        "for i in range(n):\n",
        "    costs = int(input(\"Enter cost: \"))\n",
        "    cost.append(costs)\n",
        "\n",
        "for i in range(n):\n",
        "    print(cost[i])\n"
      ],
      "metadata": {
        "colab": {
          "base_uri": "https://localhost:8080/"
        },
        "id": "IKO5iLGFYV1S",
        "outputId": "fde27783-7c5c-4fa9-9a07-0a9e1180d4fd"
      },
      "execution_count": 53,
      "outputs": [
        {
          "output_type": "stream",
          "name": "stdout",
          "text": [
            "Enter the number of costs: 5\n",
            "Enter cost: 1\n",
            "Enter cost: 2\n",
            "Enter cost: 3\n",
            "Enter cost: 4\n",
            "Enter cost: 5\n",
            "1\n",
            "2\n",
            "3\n",
            "4\n",
            "5\n"
          ]
        }
      ]
    },
    {
      "cell_type": "markdown",
      "source": [
        "11"
      ],
      "metadata": {
        "id": "APeOtQS2YU6c"
      }
    },
    {
      "cell_type": "code",
      "source": [
        "n=int(input(\"enter value of n:\"))\n",
        "fact=1\n",
        "if(n==0):\n",
        " print('factorial is 1')\n",
        "else:\n",
        " for i in range(1,n+1):\n",
        "  fact=fact*i\n",
        "print('factorial of',n,'is',fact)"
      ],
      "metadata": {
        "colab": {
          "base_uri": "https://localhost:8080/"
        },
        "id": "lBy_2Fg9dL-b",
        "outputId": "6a6ec51d-40a1-4927-9684-9f4d4a1c10db"
      },
      "execution_count": 54,
      "outputs": [
        {
          "output_type": "stream",
          "name": "stdout",
          "text": [
            "enter value of n:5\n",
            "factorial of 5 is 120\n"
          ]
        }
      ]
    },
    {
      "cell_type": "code",
      "source": [
        "def fact(n):\n",
        " facto=1\n",
        " if n==0:\n",
        "  return facto\n",
        " else:\n",
        "  for i in range(1,n+1):\n",
        "   facto=facto*i\n",
        "  return facto\n",
        "\n",
        "n=int(input())\n",
        "print(fact(n))"
      ],
      "metadata": {
        "colab": {
          "base_uri": "https://localhost:8080/"
        },
        "id": "29O8917GfphG",
        "outputId": "0af9ae0d-a915-4ee7-b145-8ca3ee8f3d53"
      },
      "execution_count": 57,
      "outputs": [
        {
          "output_type": "stream",
          "name": "stdout",
          "text": [
            "5\n",
            "120\n"
          ]
        }
      ]
    },
    {
      "cell_type": "markdown",
      "source": [],
      "metadata": {
        "id": "u3_EOFAlU6Q9"
      }
    }
  ]
}